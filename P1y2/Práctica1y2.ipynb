{
  "nbformat": 4,
  "nbformat_minor": 0,
  "metadata": {
    "colab": {
      "provenance": [],
      "authorship_tag": "ABX9TyNphz5dJxXiohCo/aT3gmi3",
      "include_colab_link": true
    },
    "kernelspec": {
      "name": "python3",
      "display_name": "Python 3"
    },
    "language_info": {
      "name": "python"
    }
  },
  "cells": [
    {
      "cell_type": "markdown",
      "metadata": {
        "id": "view-in-github",
        "colab_type": "text"
      },
      "source": [
        "<a href=\"https://colab.research.google.com/github/JoaquinBlasco10/ProgAvanGIT/blob/main/P1y2/Pr%C3%A1ctica1y2.ipynb\" target=\"_parent\"><img src=\"https://colab.research.google.com/assets/colab-badge.svg\" alt=\"Open In Colab\"/></a>"
      ]
    },
    {
      "cell_type": "markdown",
      "source": [
        "Joaquín Blasco Hípola"
      ],
      "metadata": {
        "id": "OhZRbqrK3bgT"
      }
    },
    {
      "cell_type": "markdown",
      "source": [
        "# Ejercicio 1\n"
      ],
      "metadata": {
        "id": "YDX9EHkT4U1a"
      }
    },
    {
      "cell_type": "code",
      "source": [
        "# Función para imprimir la tabla de multiplicar con las condiciones dadas\n",
        "def tabla_multiplicar():\n",
        "    for i in range(1, 6):  # Números del 1 al 5\n",
        "        for j in range(1, 6):\n",
        "            producto = i * j\n",
        "\n",
        "            # Usar 'continue' para omitir la multiplicación de los números pares\n",
        "            if i % 2 == 0:\n",
        "                continue\n",
        "\n",
        "            # Usar 'break' para detener la tabla si el producto supera 20\n",
        "            if producto > 20:\n",
        "                break\n",
        "\n",
        "            # Usar 'pass' para ilustrar su uso sin afectar la lógica\n",
        "            pass\n",
        "\n",
        "            # Imprimir el resultado de la multiplicación\n",
        "            print(f\"{i} x {j} = {producto}\")\n",
        "\n",
        "        # Separador entre tablas de cada número\n",
        "        print('-' * 20)\n",
        "\n",
        "# Llamar a la función\n",
        "tabla_multiplicar()\n"
      ],
      "metadata": {
        "colab": {
          "base_uri": "https://localhost:8080/"
        },
        "id": "1NZu_3hc3y6K",
        "outputId": "4c97a33e-93a5-4f59-d00d-4b08202a9b38"
      },
      "execution_count": 1,
      "outputs": [
        {
          "output_type": "stream",
          "name": "stdout",
          "text": [
            "1 x 1 = 1\n",
            "1 x 2 = 2\n",
            "1 x 3 = 3\n",
            "1 x 4 = 4\n",
            "1 x 5 = 5\n",
            "--------------------\n",
            "--------------------\n",
            "3 x 1 = 3\n",
            "3 x 2 = 6\n",
            "3 x 3 = 9\n",
            "3 x 4 = 12\n",
            "3 x 5 = 15\n",
            "--------------------\n",
            "--------------------\n",
            "5 x 1 = 5\n",
            "5 x 2 = 10\n",
            "5 x 3 = 15\n",
            "5 x 4 = 20\n",
            "--------------------\n"
          ]
        }
      ]
    }
  ]
}